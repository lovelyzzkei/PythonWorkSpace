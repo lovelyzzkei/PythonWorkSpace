{
 "cells": [
  {
   "cell_type": "code",
   "execution_count": 1,
   "metadata": {
    "_cell_guid": "b1076dfc-b9ad-4769-8c92-a6c4dae69d19",
    "_uuid": "8f2839f25d086af736a60e9eeb907d3b93b6e0e5"
   },
   "outputs": [
    {
     "ename": "ModuleNotFoundError",
     "evalue": "No module named 'missingno'",
     "output_type": "error",
     "traceback": [
      "\u001b[1;31m---------------------------------------------------------------------------\u001b[0m",
      "\u001b[1;31mModuleNotFoundError\u001b[0m                       Traceback (most recent call last)",
      "\u001b[1;32m<ipython-input-1-16e91a6f2616>\u001b[0m in \u001b[0;36m<module>\u001b[1;34m\u001b[0m\n\u001b[0;32m      9\u001b[0m \u001b[1;33m\u001b[0m\u001b[0m\n\u001b[0;32m     10\u001b[0m \u001b[1;31m# 결측값을 보여주는 라이브러리\u001b[0m\u001b[1;33m\u001b[0m\u001b[1;33m\u001b[0m\u001b[1;33m\u001b[0m\u001b[0m\n\u001b[1;32m---> 11\u001b[1;33m \u001b[1;32mimport\u001b[0m \u001b[0mmissingno\u001b[0m \u001b[1;32mas\u001b[0m \u001b[0mmsno\u001b[0m\u001b[1;33m\u001b[0m\u001b[1;33m\u001b[0m\u001b[0m\n\u001b[0m\u001b[0;32m     12\u001b[0m \u001b[1;33m\u001b[0m\u001b[0m\n\u001b[0;32m     13\u001b[0m \u001b[1;31m# 경고창 무시\u001b[0m\u001b[1;33m\u001b[0m\u001b[1;33m\u001b[0m\u001b[1;33m\u001b[0m\u001b[0m\n",
      "\u001b[1;31mModuleNotFoundError\u001b[0m: No module named 'missingno'"
     ]
    }
   ],
   "source": [
    "import numpy as np\n",
    "import pandas as pd\n",
    "import matplotlib.pyplot as plt\n",
    "import seaborn as sns\n",
    "\n",
    "# 시각화 세팅\n",
    "plt.style.use('seaborn')\n",
    "sns.set(font_scale=2.5)\n",
    "\n",
    "# 결측값을 보여주는 라이브러리\n",
    "import missingno as msno\n",
    "\n",
    "# 경고창 무시\n",
    "import warnings\n",
    "warnings.filterwarnings('ignore')\n",
    "\n",
    "import os\n",
    "for dirname, _, filenames in os.walk('/kaggle/input'):\n",
    "    for filename in filenames:\n",
    "        print(os.path.join(dirname, filename))\n",
    "\n",
    "%matplotlib inline"
   ]
  },
  {
   "cell_type": "code",
   "execution_count": null,
   "metadata": {},
   "outputs": [],
   "source": [
    "# 데이터 정리 -> NULL 값들 확인 -> EDA: 각각의 특성들 분석 \n",
    "# -> feature engineering -> 모델 생성 -> 모델 학습 및 생성 -> 모델 평가"
   ]
  },
  {
   "cell_type": "code",
   "execution_count": null,
   "metadata": {},
   "outputs": [],
   "source": [
    "df_train = pd.read_csv('../input/titanic/train.csv')\n",
    "df_test = pd.read_csv('../input/titanic/test.csv')"
   ]
  },
  {
   "cell_type": "code",
   "execution_count": null,
   "metadata": {},
   "outputs": [],
   "source": [
    "df_train.head()"
   ]
  },
  {
   "cell_type": "code",
   "execution_count": null,
   "metadata": {},
   "outputs": [],
   "source": [
    "# 각 column의 간단한 통계적 분석\\\n",
    "# 총 인원 수가 891명인데 Age는 714명으로 count됨.\n",
    "# -> Age column에 missing value가 있다\n",
    "df_train.describe()"
   ]
  },
  {
   "cell_type": "code",
   "execution_count": null,
   "metadata": {},
   "outputs": [],
   "source": [
    "df_train.shape"
   ]
  },
  {
   "cell_type": "code",
   "execution_count": null,
   "metadata": {},
   "outputs": [],
   "source": [
    "df_test.describe()"
   ]
  },
  {
   "cell_type": "code",
   "execution_count": null,
   "metadata": {},
   "outputs": [],
   "source": [
    "# 각 column의 NaN 값들 비율 확인\n",
    "for col in df_train.columns:\n",
    "    # {:>10} : 10자리 표현. 오른쪽 정렬\n",
    "    # {:.2f} : 소수점 2자리까지 표현\n",
    "    msg = 'column: {:>10}\\t Percent of NaN value: {:.2f}%'.format(col, 100 * (df_train[col].isnull().sum() / df_train[col].shape[0]))\n",
    "    print(msg)"
   ]
  },
  {
   "cell_type": "code",
   "execution_count": null,
   "metadata": {},
   "outputs": [],
   "source": [
    "# 각 column의 NaN 값들 비율 확인\n",
    "for col in df_test.columns:\n",
    "    # {:>10} : 10자리 표현. 오른쪽 정렬\n",
    "    # {:.2f} : 소수점 2자리까지 표현 \n",
    "    msg = 'column: {:>10}\\t Percent of NaN value: {:.2f}%'.format(col, 100 * (df_test[col].isnull().sum() / df_test[col].shape[0]))\n",
    "    print(msg)"
   ]
  },
  {
   "cell_type": "code",
   "execution_count": null,
   "metadata": {},
   "outputs": [],
   "source": [
    "# iloc: index location. 내가 원하는 행과 열을 가져올 수 있음\n",
    "# 빈칸이 NULL값. 어느 위치에 NULL 데이터가 존재하는지\n",
    "msno.matrix(df=df_train.iloc[:,:], figsize=(8,8), color=(0.8, 0.5, 0.2))"
   ]
  },
  {
   "cell_type": "code",
   "execution_count": null,
   "metadata": {},
   "outputs": [],
   "source": [
    "# target label 확인\n",
    "# target label이 얼마나 balance 있게 분포되어 있는가 \n",
    "# target label이 어떤 distribution을 갖는지 반드시 확인을 해야 함.\n",
    "\n",
    "# 그래프를 그리기 위한 도화지를 준비하는 과정\n",
    "# subplots()를 통해 도화지에 구획을 나눔. 아래의 예는 1행 2열로 구획을 나눔 + figsize는 도화지 전체의 크기\n",
    "# f는 전체 도화지를 지칭하며 ax는 각각의 구획을 지칭. 리스트 형태이며 인덱스로 접근 가능 ex) ax[0], ax[1]\n",
    "f, ax = plt.subplots(1, 2, figsize=(18, 8))\n",
    "\n",
    "# value_counts(): 각 레이블의 개수를 반환. type은 Series -> plot을 가지고 있음 (plt와의 호환성)\n",
    "# pie(): plot을 파이 그래프로 만듦\n",
    "# explode: 각 부채꼴이 중심에서 벗어나는 정도. 아래는 부채꼴이 2개니까 2개의 요소를 가지고 있는 리스트\n",
    "# autopct: 부채꼴 안에 표시될 숫자의 형식\n",
    "# ax: 파이 그래프를 그릴 구획 지정\n",
    "df_train['Survived'].value_counts().plot.pie(explode=[0, 0.1], autopct='%1.1f%%', ax=ax[0], shadow=True)\n",
    "ax[0].set_title('Pie plot - Survived')\n",
    "ax[0].set_ylabel('')\n",
    "\n",
    "# seaborn의 count plot 생성\n",
    "sns.countplot('Survived', data=df_train, ax=ax[1])\n",
    "ax[1].set_title('Count plot - Survived')\n",
    "plt.show()\n",
    "\n",
    "# target label이 balance하게 분포하여 있다."
   ]
  },
  {
   "cell_type": "markdown",
   "metadata": {},
   "source": [
    "# EDA"
   ]
  },
  {
   "cell_type": "code",
   "execution_count": null,
   "metadata": {},
   "outputs": [],
   "source": [
    "# EDA: Exploratory Data Analysis\n",
    "# feature들 간의 상관관계, 어떤 feature가 중요한지, feature들의 insight를 얻는 중요한 부분\n",
    "# 그림을 해석하는 능력을 기르자.\n",
    "# 내가 원하는 주장을 할 수 있는 그림을 그리자. "
   ]
  },
  {
   "cell_type": "markdown",
   "metadata": {},
   "source": [
    "## 2.1 Pclass"
   ]
  },
  {
   "cell_type": "code",
   "execution_count": null,
   "metadata": {},
   "outputs": [],
   "source": [
    "df_train['Pclass'].unique()"
   ]
  },
  {
   "cell_type": "code",
   "execution_count": null,
   "metadata": {},
   "outputs": [],
   "source": [
    "# Pclass에 따른 생존율의 변화\n",
    "# 각 Pclass에 해당되는 사람들: Pclass와 Survived column만 가져와서 Pclass로 묶음 -> count()\n",
    "df_train[['Pclass', 'Survived']].groupby(['Pclass'], as_index=True).count()"
   ]
  },
  {
   "cell_type": "code",
   "execution_count": null,
   "metadata": {},
   "outputs": [],
   "source": [
    "df_train[['Pclass', 'Survived']].groupby(['Pclass'], as_index=True).mean() # 생존율"
   ]
  },
  {
   "cell_type": "code",
   "execution_count": null,
   "metadata": {},
   "outputs": [],
   "source": [
    "# 각 Pclass에 해당되는 사람들 중 생존한 사람들 -> sum()\n",
    "df_train[['Pclass', 'Survived']].groupby(['Pclass']).sum()"
   ]
  },
  {
   "cell_type": "code",
   "execution_count": null,
   "metadata": {},
   "outputs": [],
   "source": [
    "# crosstab()을 사용하여 Pclass와 Survived column을 합친 표를 생성. margins=: All의 여부\n",
    "pd.crosstab(df_train['Pclass'], df_train['Survived'], margins=True).style.background_gradient(cmap='cool')"
   ]
  },
  {
   "cell_type": "code",
   "execution_count": null,
   "metadata": {},
   "outputs": [],
   "source": [
    "# 각 클래스별로 생존율 확인\n",
    "# Pclass가 높을수록 생존율이 높음\n",
    "df_train[['Pclass', 'Survived']].groupby(['Pclass'], as_index=True).mean().sort_values(by='Survived', ascending=False).plot.bar()"
   ]
  },
  {
   "cell_type": "code",
   "execution_count": null,
   "metadata": {},
   "outputs": [],
   "source": [
    "y_position = 1.02\n",
    "f,ax = plt.subplots(1, 2, figsize=(18, 8))\n",
    "df_train['Pclass'].value_counts().plot.bar(color=['#CD7F32', '#FFDF00', '#D3D3D3'], ax=ax[0])\n",
    "ax[0].set_title('Number of passengers By Pclass', y=y_position)\n",
    "ax[0].set_ylabel('Count')\n",
    "sns.countplot('Pclass', hue='Survived', data=df_train, ax=ax[1])\n",
    "ax[1].set_title('Pclass: Survived vs Dead', y=y_position)\n",
    "plt.show()\n",
    "\n",
    "# => Pclass가 높을수록 생존 확률이 높다"
   ]
  },
  {
   "cell_type": "markdown",
   "metadata": {},
   "source": [
    "## 2.2 Sex"
   ]
  },
  {
   "cell_type": "code",
   "execution_count": null,
   "metadata": {},
   "outputs": [],
   "source": [
    "# 성별에 따른 생존율 변화\n",
    "\n",
    "f, ax = plt.subplots(1, 2, figsize=(18, 8))\n",
    "\n",
    "df_train[['Sex', 'Survived']].groupby(['Sex'], as_index=True).mean().plot.bar(ax=ax[0])\n",
    "ax[0].set_title('Survived vs Sex')\n",
    "sns.countplot('Sex', hue='Survived', data=df_train, ax=ax[1])\n",
    "ax[1].set_title('Sex: Survived vs Dead')\n",
    "plt.show()\n",
    "\n",
    "# 여성의 생존 확률이 현저히 높음"
   ]
  },
  {
   "cell_type": "code",
   "execution_count": null,
   "metadata": {},
   "outputs": [],
   "source": [
    "# sex와 survived에 대해 크로스 테이블 생성\n",
    "pd.crosstab(df_train['Sex'], df_train['Survived'], margins=True)"
   ]
  },
  {
   "cell_type": "markdown",
   "metadata": {},
   "source": [
    "## 2.2 Both Sex and Pclass "
   ]
  },
  {
   "cell_type": "code",
   "execution_count": null,
   "metadata": {},
   "outputs": [],
   "source": [
    "# sex와 pclass를 모두 고려한 생존율 그래프 생성 -> factorplot 이용\n",
    "sns.factorplot('Pclass', 'Survived', hue='Sex', data=df_train, size=6, aspect=1.5)"
   ]
  },
  {
   "cell_type": "code",
   "execution_count": null,
   "metadata": {},
   "outputs": [],
   "source": [
    "# 클래스가 높을수록 생존율이 높아짐. 클래스에 상관 없이 여성은 생존율이 높음\n",
    "# 그래프의 세로 막대: 에러바\n",
    "sns.factorplot(x='Sex', y='Survived', hue='Pclass', data=df_train, saturation=.5, size=9, aspect=1)"
   ]
  },
  {
   "cell_type": "markdown",
   "metadata": {},
   "source": [
    "## 2.3 Age"
   ]
  },
  {
   "cell_type": "code",
   "execution_count": null,
   "metadata": {},
   "outputs": [],
   "source": [
    "print(\"제일 나이 많은 탑승객: {:.1f} years\".format(df_train['Age'].max()))\n",
    "print(\"제일 어린 탑승객: {:.1f} years\".format(df_train['Age'].min()))\n",
    "print(\"탑승객 평균 나이: {:.1f} years\".format(df_train['Age'].mean()))"
   ]
  },
  {
   "cell_type": "code",
   "execution_count": null,
   "metadata": {},
   "outputs": [],
   "source": [
    "fig, ax = plt.subplots(1, 1, figsize=(9, 5))\n",
    "\n",
    "# kdeplot(kernel density estimation): 히스토그램을 밀도 함수로 바꿔서 표현해주는 그래프. \n",
    "# 히스토그램으로는 알기 어려운 데이터의 분포를 커널 함수를 통해 smooth하게 표현해줌 -> practical하게 표현해줌.\n",
    "# 생존한 사람들의 Age column만을 뽑아 kdeplot으로 표현\n",
    "sns.kdeplot(df_train[df_train['Survived'] == 1]['Age'], ax=ax)\n",
    "sns.kdeplot(df_train[df_train['Survived'] == 0]['Age'], ax=ax)\n",
    "plt.legend(['Survived == 1', 'Survived == 0'])\n",
    "plt.show()\n",
    "\n",
    "# => 나이가 어릴수록 생존할 확률이 높아진다"
   ]
  },
  {
   "cell_type": "code",
   "execution_count": null,
   "metadata": {},
   "outputs": [],
   "source": [
    "# 생존한 사람들의 Age column만을 뽑아 히스토그램으로 표현\n",
    "df_train[df_train['Survived'] == 1]['Age'].hist()"
   ]
  },
  {
   "cell_type": "code",
   "execution_count": null,
   "metadata": {},
   "outputs": [],
   "source": [
    "# Age와 Pclass 간의 상관관계\n",
    "plt.figure(figsize=(8, 6))\n",
    "df_train['Age'][df_train['Pclass'] == 1].plot(kind='kde')\n",
    "df_train['Age'][df_train['Pclass'] == 2].plot(kind='kde')\n",
    "df_train['Age'][df_train['Pclass'] == 3].plot(kind='kde')\n",
    "\n",
    "plt.legend(['Pclass == 1', 'Pclass == 2', 'Pclass == 3'])\n",
    "plt.xlabel('Age')\n",
    "plt.title('Age Distribution within classes')\n",
    "\n",
    "# => 나이가 많을 수록 좋은 좌석에 앉은 경향"
   ]
  },
  {
   "cell_type": "code",
   "execution_count": null,
   "metadata": {},
   "outputs": [],
   "source": [
    "fig, ax = plt.subplots(1, 1, figsize=(9, 5))\n",
    "\n",
    "# Pclass가 1인 사람들 중에서 생존한 사람들과 그렇지 않은 사람들의 나이 분포\n",
    "sns.kdeplot(df_train[(df_train['Survived'] == 0) & (df_train['Pclass'] == 1)]['Age'], ax=ax)\n",
    "sns.kdeplot(df_train[(df_train['Survived'] == 1) & (df_train['Pclass'] == 1)]['Age'], ax=ax)\n",
    "plt.legend(['Survived == 0', 'Survived == 1'])\n",
    "plt.title('1st class')\n",
    "plt.show()\n",
    "\n",
    "# => 1st class에서는 젊은 사람들이 더 많이 생존"
   ]
  },
  {
   "cell_type": "code",
   "execution_count": null,
   "metadata": {},
   "outputs": [],
   "source": [
    "fig, ax = plt.subplots(1, 1, figsize=(9, 5))\n",
    "\n",
    "# Pclass가 2인 사람들 중에서 생존한 사람들과 그렇지 않은 사람들의 나이 분포\n",
    "sns.kdeplot(df_train[(df_train['Survived'] == 0) & (df_train['Pclass'] == 2)]['Age'], ax=ax)\n",
    "sns.kdeplot(df_train[(df_train['Survived'] == 1) & (df_train['Pclass'] == 2)]['Age'], ax=ax)\n",
    "plt.legend(['Survived == 0', 'Survived == 1'])\n",
    "plt.title('2nd class')\n",
    "plt.show()\n",
    "\n",
    "# => 2nd class도 나이가 어릴수록 생존자가 많음"
   ]
  },
  {
   "cell_type": "code",
   "execution_count": null,
   "metadata": {},
   "outputs": [],
   "source": [
    "fig, ax = plt.subplots(1, 1, figsize=(9, 5))\n",
    "\n",
    "# Pclass가 3인 사람들 중에서 생존한 사람들과 그렇지 않은 사람들의 나이 분포\n",
    "sns.kdeplot(df_train[(df_train['Survived'] == 0) & (df_train['Pclass'] == 3)]['Age'], ax=ax)\n",
    "sns.kdeplot(df_train[(df_train['Survived'] == 1) & (df_train['Pclass'] == 3)]['Age'], ax=ax)\n",
    "plt.legend(['Survived == 0', 'Survived == 1'])\n",
    "plt.show()\n",
    "\n",
    "# => 3rd class도 나이가 어릴수록 생존자가 많음"
   ]
  },
  {
   "cell_type": "code",
   "execution_count": null,
   "metadata": {},
   "outputs": [],
   "source": [
    "# 그러면 정말 어린 사람들의 생존율이 더 높은가?\n",
    "cumulate_survival_ratio = []\n",
    "\n",
    "for i in range(1, 80):\n",
    "    # 나이가 i보다 적은 사람들 전부 중에서 생존한 사람들의 비율을 리스트에 append\n",
    "    num_person_lower_i = df_train[df_train['Age'] < i]['Survived']\n",
    "    cumulate_survival_ratio.append(num_person_lower_i.sum() / len(num_person_lower_i))\n",
    "    \n",
    "\n",
    "plt.figure(figsize=(7, 7))\n",
    "plt.plot(cumulate_survival_ratio)\n",
    "plt.title('Survival rate change depending on range of Age', y=1.02)\n",
    "plt.ylabel('Survival rate')\n",
    "plt.xlabel('Range of Age(0-x)')\n",
    "plt.show()\n",
    "\n",
    "# => 나이가 어릴수록 생존 확률이 높다!"
   ]
  },
  {
   "cell_type": "markdown",
   "metadata": {},
   "source": [
    "## Pclass, Sex, Age"
   ]
  },
  {
   "cell_type": "code",
   "execution_count": null,
   "metadata": {},
   "outputs": [],
   "source": [
    "f, ax = plt.subplots(1, 2, figsize=(18, 8))\n",
    "\n",
    "# Pclass와 Age를 기준으로 Survived에 대한 violinplot 생성\n",
    "sns.violinplot('Pclass', 'Age', hue='Survived', data=df_train, scale='count', split=True, ax=ax[0])\n",
    "ax[0].set_title('Pclass and Age vs Survived')\n",
    "ax[0].set_yticks(range(0, 110, 10))\n",
    "\n",
    "# Sex와 Age를 기준으로 Survived에 대한 violineplot 생성\n",
    "sns.violinplot('Sex', 'Age', hue='Survived', data=df_train, scale='count', split=True, ax=ax[1])\n",
    "ax[1].set_title('Sex and Age vs Survived')\n",
    "ax[1].set_yticks(range(0, 110, 10))\n",
    "plt.show()"
   ]
  },
  {
   "cell_type": "code",
   "execution_count": null,
   "metadata": {},
   "outputs": [],
   "source": []
  },
  {
   "cell_type": "code",
   "execution_count": null,
   "metadata": {},
   "outputs": [],
   "source": []
  },
  {
   "cell_type": "code",
   "execution_count": null,
   "metadata": {},
   "outputs": [],
   "source": []
  },
  {
   "cell_type": "code",
   "execution_count": null,
   "metadata": {},
   "outputs": [],
   "source": []
  },
  {
   "cell_type": "code",
   "execution_count": null,
   "metadata": {},
   "outputs": [],
   "source": []
  },
  {
   "cell_type": "code",
   "execution_count": null,
   "metadata": {},
   "outputs": [],
   "source": []
  },
  {
   "cell_type": "code",
   "execution_count": null,
   "metadata": {},
   "outputs": [],
   "source": []
  },
  {
   "cell_type": "code",
   "execution_count": null,
   "metadata": {},
   "outputs": [],
   "source": []
  }
 ],
 "metadata": {
  "kernelspec": {
   "display_name": "Python 3",
   "language": "python",
   "name": "python3"
  },
  "language_info": {
   "codemirror_mode": {
    "name": "ipython",
    "version": 3
   },
   "file_extension": ".py",
   "mimetype": "text/x-python",
   "name": "python",
   "nbconvert_exporter": "python",
   "pygments_lexer": "ipython3",
   "version": "3.7.3"
  }
 },
 "nbformat": 4,
 "nbformat_minor": 4
}
