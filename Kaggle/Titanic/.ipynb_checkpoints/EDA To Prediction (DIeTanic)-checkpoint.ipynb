{
 "cells": [
  {
   "cell_type": "markdown",
   "id": "5cd183fe",
   "metadata": {},
   "source": [
    "이 notebook의 원본 링크:  \n",
    "+ [EDA To Prediction](https://www.kaggle.com/ash316/eda-to-prediction-dietanic)\n",
    "\n",
    "# EDA To Prediction (DieTanic)\n",
    "\n",
    "The Objective of this notebook is to give an **idea how is the workflow in any predictive modeling problem.** How do we check features, how do we add new features and some Machine Learning Concepts.\n",
    "\n",
    "-> 이 notebook의 목적은 **예측 분석 모델링 작업이 어떻게 이루어지는지, 그 기초를 다지기 위함**에 있습니다. 어떻게 feature를 확인하고, 어떻게 새로운 feature를 추가하고, 어떻게 머신 러닝의 생각들을 접목시키는지 그 기본적인 것에 대하여 다룹니다."
   ]
  },
  {
   "cell_type": "markdown",
   "id": "4287f0d6",
   "metadata": {},
   "source": [
    "## Part1: Exploratory Data Analysis(EDA)\n",
    "\n",
    "먼저 필요한 라이브러리들을 import하고 주어진 데이터를 확인해봅시다."
   ]
  },
  {
   "cell_type": "code",
   "execution_count": 4,
   "id": "262fe56b",
   "metadata": {},
   "outputs": [],
   "source": [
    "import numpy as np\n",
    "import pandas as pd\n",
    "import matplotlib.pyplot as plt\n",
    "import seaborn as sns\n",
    "plt.style.use('fivethirtyeight')\n",
    "import warnings\n",
    "warnings.filterwarnings('ignore')\n",
    "%matplotlib inline"
   ]
  },
  {
   "cell_type": "code",
   "execution_count": 5,
   "id": "328b153d",
   "metadata": {},
   "outputs": [],
   "source": [
    "# 훈련 데이터 불러오기\n",
    "data = pd.read_csv('./input/train.csv')"
   ]
  },
  {
   "cell_type": "code",
   "execution_count": 7,
   "id": "366ccc6c",
   "metadata": {},
   "outputs": [
    {
     "data": {
      "text/html": [
       "<div>\n",
       "<style scoped>\n",
       "    .dataframe tbody tr th:only-of-type {\n",
       "        vertical-align: middle;\n",
       "    }\n",
       "\n",
       "    .dataframe tbody tr th {\n",
       "        vertical-align: top;\n",
       "    }\n",
       "\n",
       "    .dataframe thead th {\n",
       "        text-align: right;\n",
       "    }\n",
       "</style>\n",
       "<table border=\"1\" class=\"dataframe\">\n",
       "  <thead>\n",
       "    <tr style=\"text-align: right;\">\n",
       "      <th></th>\n",
       "      <th>PassengerId</th>\n",
       "      <th>Survived</th>\n",
       "      <th>Pclass</th>\n",
       "      <th>Name</th>\n",
       "      <th>Sex</th>\n",
       "      <th>Age</th>\n",
       "      <th>SibSp</th>\n",
       "      <th>Parch</th>\n",
       "      <th>Ticket</th>\n",
       "      <th>Fare</th>\n",
       "      <th>Cabin</th>\n",
       "      <th>Embarked</th>\n",
       "    </tr>\n",
       "  </thead>\n",
       "  <tbody>\n",
       "    <tr>\n",
       "      <th>0</th>\n",
       "      <td>1</td>\n",
       "      <td>0</td>\n",
       "      <td>3</td>\n",
       "      <td>Braund, Mr. Owen Harris</td>\n",
       "      <td>male</td>\n",
       "      <td>22.0</td>\n",
       "      <td>1</td>\n",
       "      <td>0</td>\n",
       "      <td>A/5 21171</td>\n",
       "      <td>7.2500</td>\n",
       "      <td>NaN</td>\n",
       "      <td>S</td>\n",
       "    </tr>\n",
       "    <tr>\n",
       "      <th>1</th>\n",
       "      <td>2</td>\n",
       "      <td>1</td>\n",
       "      <td>1</td>\n",
       "      <td>Cumings, Mrs. John Bradley (Florence Briggs Th...</td>\n",
       "      <td>female</td>\n",
       "      <td>38.0</td>\n",
       "      <td>1</td>\n",
       "      <td>0</td>\n",
       "      <td>PC 17599</td>\n",
       "      <td>71.2833</td>\n",
       "      <td>C85</td>\n",
       "      <td>C</td>\n",
       "    </tr>\n",
       "    <tr>\n",
       "      <th>2</th>\n",
       "      <td>3</td>\n",
       "      <td>1</td>\n",
       "      <td>3</td>\n",
       "      <td>Heikkinen, Miss. Laina</td>\n",
       "      <td>female</td>\n",
       "      <td>26.0</td>\n",
       "      <td>0</td>\n",
       "      <td>0</td>\n",
       "      <td>STON/O2. 3101282</td>\n",
       "      <td>7.9250</td>\n",
       "      <td>NaN</td>\n",
       "      <td>S</td>\n",
       "    </tr>\n",
       "    <tr>\n",
       "      <th>3</th>\n",
       "      <td>4</td>\n",
       "      <td>1</td>\n",
       "      <td>1</td>\n",
       "      <td>Futrelle, Mrs. Jacques Heath (Lily May Peel)</td>\n",
       "      <td>female</td>\n",
       "      <td>35.0</td>\n",
       "      <td>1</td>\n",
       "      <td>0</td>\n",
       "      <td>113803</td>\n",
       "      <td>53.1000</td>\n",
       "      <td>C123</td>\n",
       "      <td>S</td>\n",
       "    </tr>\n",
       "    <tr>\n",
       "      <th>4</th>\n",
       "      <td>5</td>\n",
       "      <td>0</td>\n",
       "      <td>3</td>\n",
       "      <td>Allen, Mr. William Henry</td>\n",
       "      <td>male</td>\n",
       "      <td>35.0</td>\n",
       "      <td>0</td>\n",
       "      <td>0</td>\n",
       "      <td>373450</td>\n",
       "      <td>8.0500</td>\n",
       "      <td>NaN</td>\n",
       "      <td>S</td>\n",
       "    </tr>\n",
       "  </tbody>\n",
       "</table>\n",
       "</div>"
      ],
      "text/plain": [
       "   PassengerId  Survived  Pclass  \\\n",
       "0            1         0       3   \n",
       "1            2         1       1   \n",
       "2            3         1       3   \n",
       "3            4         1       1   \n",
       "4            5         0       3   \n",
       "\n",
       "                                                Name     Sex   Age  SibSp  \\\n",
       "0                            Braund, Mr. Owen Harris    male  22.0      1   \n",
       "1  Cumings, Mrs. John Bradley (Florence Briggs Th...  female  38.0      1   \n",
       "2                             Heikkinen, Miss. Laina  female  26.0      0   \n",
       "3       Futrelle, Mrs. Jacques Heath (Lily May Peel)  female  35.0      1   \n",
       "4                           Allen, Mr. William Henry    male  35.0      0   \n",
       "\n",
       "   Parch            Ticket     Fare Cabin Embarked  \n",
       "0      0         A/5 21171   7.2500   NaN        S  \n",
       "1      0          PC 17599  71.2833   C85        C  \n",
       "2      0  STON/O2. 3101282   7.9250   NaN        S  \n",
       "3      0            113803  53.1000  C123        S  \n",
       "4      0            373450   8.0500   NaN        S  "
      ]
     },
     "execution_count": 7,
     "metadata": {},
     "output_type": "execute_result"
    }
   ],
   "source": [
    "# 훈련 데이터 한번 훑어보기\n",
    "data.head()"
   ]
  },
  {
   "cell_type": "code",
   "execution_count": 10,
   "id": "12b37067",
   "metadata": {},
   "outputs": [
    {
     "data": {
      "text/plain": [
       "PassengerId      0\n",
       "Survived         0\n",
       "Pclass           0\n",
       "Name             0\n",
       "Sex              0\n",
       "Age            177\n",
       "SibSp            0\n",
       "Parch            0\n",
       "Ticket           0\n",
       "Fare             0\n",
       "Cabin          687\n",
       "Embarked         2\n",
       "dtype: int64"
      ]
     },
     "execution_count": 10,
     "metadata": {},
     "output_type": "execute_result"
    }
   ],
   "source": [
    "# 데이터 내에 있는 전체 null value 확인\n",
    "data.isnull().sum()"
   ]
  },
  {
   "cell_type": "markdown",
   "id": "b88a1169",
   "metadata": {},
   "source": [
    "**Age, Cabin, Embarked**에 있는 null value에 대한 처리 필요\n",
    "\n",
    "### How many survived?\n",
    "\n",
    "먼저 우리의 target label인 **Survived**를 확인해보자. 얼마나 생존하였는가?"
   ]
  },
  {
   "cell_type": "code",
   "execution_count": 11,
   "id": "e0ec3496",
   "metadata": {},
   "outputs": [
    {
     "data": {
      "image/png": "[encoded data removed]",
      "text/plain": [
       "<Figure size 576x576 with 2 Axes>"
      ]
     },
     "metadata": {
      "needs_background": "light"
     },
     "output_type": "display_data"
    }
   ],
   "source": [
    "# survived에 대한 두 가지 그래프를 그릴 도화지 준비\n",
    "f, ax = plt.subplots(1, 2, figsize=(8, 8))\n",
    "\n",
    "# 하나는 파이 그래프로\n",
    "data['Survived'].value_counts().plot.pie(explode=[0,0.1], autopct='%1.1f', ax=ax[0], shadow=True)\n",
    "ax[0].set_title('Survived')\n",
    "ax[0].set_ylabel('')\n",
    "\n",
    "# 하나는 막대 그래프로\n",
    "sns.countplot('Survived', data=data, ax=ax[1])\n",
    "ax[1].set_title('Survived')\n",
    "plt.show()"
   ]
  },
  {
   "cell_type": "markdown",
   "id": "d1f95ec5",
   "metadata": {},
   "source": [
    "많은 사람들이 생존하지 못한 것은 너무나 자명하다.\n",
    "\n",
    "We need to dig down more to get better insights from the data and see which categories of the passengers did survive and who didn't\n",
    "\n",
    "We will try to check the survival rate by using the different features of the dataset. Some of the features being Sex, Port Of Embarcation, Age, etc.\n",
    "\n",
    "-> 우리는 이 데이터에 대한 **insight**를 얻기 위하여 조금 더 깊게 분석을 해보아야 한다. 그리고 어떤 부류의 사람들이 생존하였고, 그렇지 못하였는지 확인을 해야 한다. 데이터에 있는 다른 여러 feature들과 생존률 사이의 관계를 확인하며 **insight**를 얻어보자.\n",
    "\n",
    "First let us understand the different types of features.\n",
    "\n",
    "먼저 feature들의 **type**를 파악하자"
   ]
  },
  {
   "cell_type": "markdown",
   "id": "3118713c",
   "metadata": {},
   "source": [
    "## Types Of Feature\n",
    "\n",
    "### Categorical Features:\n",
    "\n",
    "has two or more categories and each value in that feature can be categorised by them. also known as **Nominal Variables.**\n",
    "\n",
    "둘 이상의 범주가 존재하고 그 범주에 따라 값들이 분류되어 있는 feature들. 명목변수(nominal Variable)이라고도 불림. 측정 대상의 특성을 분류하기 위한 변수로, 숫자는 오로지 **구분만을 위해 사용되며, 숫자 자체에 크기나 의미는 없다.**\n",
    "\n",
    "**Categorical Features in the dataset: Sex, Embarked.**\n",
    "\n",
    "\n",
    "### Ordinal Features:\n",
    "\n",
    "similar to categorical values, but it has relative ordering or sorting btw the values.\n",
    "\n",
    "명목 변수와 유사하지만, **측정 대상간에 서열을 부여하여 크고 작음, 높고 낮음, 순위를 파악하는 변수**이다. 즉, categorical feature과는 다르게 **부여되는 숫자에 의미가 존재**. 서열 변수라고 불림.\n",
    "\n",
    "**Ordinal Features in the dataset: Pclass*\n",
    "\n",
    "\n",
    "### Continuous Feature:\n",
    "\n",
    "A feature is said to be continuous if it can take values btw any two points or btw the minimum or maximum in the features column.\n",
    "\n",
    "어느 두 값 사이의 값들을 갖는다거나 해당 feature의 최대 최솟값 사이의 값을 가지면 그 feature를 continuous 하다고 말한다.\n",
    "\n",
    "**Continuous Features in the dataset: Age**"
   ]
  },
  {
   "cell_type": "markdown",
   "id": "b0d70c9b",
   "metadata": {},
   "source": [
    "## Analysing The Features\n",
    "\n",
    "### Sex -> Categorical Feature"
   ]
  },
  {
   "cell_type": "code",
   "execution_count": 12,
   "id": "fc230116",
   "metadata": {},
   "outputs": [
    {
     "data": {
      "text/plain": [
       "Sex     Survived\n",
       "female  0            81\n",
       "        1           233\n",
       "male    0           468\n",
       "        1           109\n",
       "Name: Survived, dtype: int64"
      ]
     },
     "execution_count": 12,
     "metadata": {},
     "output_type": "execute_result"
    }
   ],
   "source": [
    "# 각 성별마다 생존한 사람과 그렇지 못한 사람 확인\n",
    "data.groupby(['Sex', 'Survived'])['Survived'].count()"
   ]
  },
  {
   "cell_type": "code",
   "execution_count": 18,
   "id": "c8d270c8",
   "metadata": {},
   "outputs": [
    {
     "data": {
      "text/html": [
       "<div>\n",
       "<style scoped>\n",
       "    .dataframe tbody tr th:only-of-type {\n",
       "        vertical-align: middle;\n",
       "    }\n",
       "\n",
       "    .dataframe tbody tr th {\n",
       "        vertical-align: top;\n",
       "    }\n",
       "\n",
       "    .dataframe thead th {\n",
       "        text-align: right;\n",
       "    }\n",
       "</style>\n",
       "<table border=\"1\" class=\"dataframe\">\n",
       "  <thead>\n",
       "    <tr style=\"text-align: right;\">\n",
       "      <th></th>\n",
       "      <th>Sex</th>\n",
       "      <th>Survived</th>\n",
       "    </tr>\n",
       "  </thead>\n",
       "  <tbody>\n",
       "    <tr>\n",
       "      <th>0</th>\n",
       "      <td>female</td>\n",
       "      <td>314</td>\n",
       "    </tr>\n",
       "    <tr>\n",
       "      <th>1</th>\n",
       "      <td>male</td>\n",
       "      <td>577</td>\n",
       "    </tr>\n",
       "  </tbody>\n",
       "</table>\n",
       "</div>"
      ],
      "text/plain": [
       "      Sex  Survived\n",
       "0  female       314\n",
       "1    male       577"
      ]
     },
     "execution_count": 18,
     "metadata": {},
     "output_type": "execute_result"
    }
   ],
   "source": [
    "data[['Sex', 'Survived']].groupby(['Sex'], as_index=False).count()"
   ]
  },
  {
   "cell_type": "code",
   "execution_count": 19,
   "id": "909c12fb",
   "metadata": {},
   "outputs": [
    {
     "data": {
      "image/png": "[encoded data removed]",
      "text/plain": [
       "<Figure size 1296x576 with 2 Axes>"
      ]
     },
     "metadata": {
      "needs_background": "light"
     },
     "output_type": "display_data"
    }
   ],
   "source": [
    "f, ax = plt.subplots(1, 2, figsize=(18, 8))\n",
    "\n",
    "data[['Sex', 'Survived']].groupby(['Sex']).mean().plot.bar(ax=ax[0])\n",
    "ax[0].set_title('Survived vs Sex')\n",
    "\n",
    "sns.countplot('Sex', hue='Survived',data=data, ax=ax[1])\n",
    "ax[1].set_title('Sex:Survived vs Dead')\n",
    "plt.show()"
   ]
  },
  {
   "cell_type": "markdown",
   "id": "160d4071",
   "metadata": {},
   "source": [
    "탑승한 승객은 남자가 더 많지만 **생존한 사람들은 여자가 더 많음.**\n",
    "여자의 생존률은 70%가 넘어가는데 남자의 생존률은 20%를 넘지 못함.\n",
    "\n",
    "This looks to be a **very important** feature for modeling. But is it the best?? Lets check other features.\n",
    "\n",
    "매우 중요한 feature로 보이지만 일단 다른 feature들도 확인해보자."
   ]
  },
  {
   "cell_type": "code",
   "execution_count": null,
   "id": "9583a551",
   "metadata": {},
   "outputs": [],
   "source": []
  },
  {
   "cell_type": "code",
   "execution_count": null,
   "id": "d9d1721e",
   "metadata": {},
   "outputs": [],
   "source": []
  },
  {
   "cell_type": "code",
   "execution_count": null,
   "id": "9c0fb81f",
   "metadata": {},
   "outputs": [],
   "source": []
  },
  {
   "cell_type": "code",
   "execution_count": null,
   "id": "c7ef8cb7",
   "metadata": {},
   "outputs": [],
   "source": []
  }
 ],
 "metadata": {
  "kernelspec": {
   "display_name": "Python 3",
   "language": "python",
   "name": "python3"
  },
  "language_info": {
   "codemirror_mode": {
    "name": "ipython",
    "version": 3
   },
   "file_extension": ".py",
   "mimetype": "text/x-python",
   "name": "python",
   "nbconvert_exporter": "python",
   "pygments_lexer": "ipython3",
   "version": "3.7.3"
  }
 },
 "nbformat": 4,
 "nbformat_minor": 5
}
